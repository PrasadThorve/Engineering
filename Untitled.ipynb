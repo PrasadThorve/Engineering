{
 "cells": [
  {
   "cell_type": "code",
   "execution_count": 1,
   "id": "9d402580",
   "metadata": {},
   "outputs": [
    {
     "ename": "SyntaxError",
     "evalue": "invalid character in identifier (890321703.py, line 14)",
     "output_type": "error",
     "traceback": [
      "\u001b[1;36m  Cell \u001b[1;32mIn[1], line 14\u001b[1;36m\u001b[0m\n\u001b[1;33m    print(\"The sum of\", num1, \"and\", num2, \"is:\", sum_result)\u001b[0m\n\u001b[1;37m                                                           ^\u001b[0m\n\u001b[1;31mSyntaxError\u001b[0m\u001b[1;31m:\u001b[0m invalid character in identifier\n"
     ]
    }
   ],
   "source": [
    "# define a function that takes two arguments and adds them\n",
    "def add_numbers(a, b):\n",
    "    result = a + b\n",
    "    return result\n",
    "\n",
    "# Input from the user\n",
    "num1 = float(input(\"Enter the first number: \"))\n",
    "num2 = float(input(\"Enter the second number: \"))\n",
    "\n",
    "# Call the function and store the result in a variable\n",
    "sum_result = add_numbers(num1, num2)\n",
    "\n",
    "# Display the result\n",
    "print(\"The sum of\", num1, \"and\", num2, \"is:\", sum_result)"
   ]
  },
  {
   "cell_type": "code",
   "execution_count": 3,
   "id": "963ee45c",
   "metadata": {},
   "outputs": [
    {
     "name": "stdout",
     "output_type": "stream",
     "text": [
      "Enter the first number: 10\n",
      "Enter the second number: 20\n",
      "Output:  30\n"
     ]
    }
   ],
   "source": [
    "def add_numbers(a,b):\n",
    "    result = a+b\n",
    "    return result\n",
    "\n",
    "a = int(input(\"Enter the first number: \"))\n",
    "b = int(input(\"Enter the second number: \"))\n",
    "\n",
    "result = add_numbers(a,b)\n",
    "\n",
    "print(\"Output: \",result)"
   ]
  },
  {
   "cell_type": "code",
   "execution_count": null,
   "id": "8cb25bab",
   "metadata": {},
   "outputs": [],
   "source": []
  }
 ],
 "metadata": {
  "kernelspec": {
   "display_name": "myenv",
   "language": "python",
   "name": "myenv"
  },
  "language_info": {
   "codemirror_mode": {
    "name": "ipython",
    "version": 3
   },
   "file_extension": ".py",
   "mimetype": "text/x-python",
   "name": "python",
   "nbconvert_exporter": "python",
   "pygments_lexer": "ipython3",
   "version": "3.8.18"
  }
 },
 "nbformat": 4,
 "nbformat_minor": 5
}

{
 "cells": [
  {
   "cell_type": "code",
   "execution_count": 1,
   "id": "cfe9261c",
   "metadata": {},
   "outputs": [],
   "source": [
    "#Implementation of N queen"
   ]
  },
  {
   "cell_type": "code",
   "execution_count": 19,
   "id": "d935730d",
   "metadata": {},
   "outputs": [
    {
     "data": {
      "text/plain": [
       "<function __main__.SolveNQ()>"
      ]
     },
     "execution_count": 19,
     "metadata": {},
     "output_type": "execute_result"
    }
   ],
   "source": [
    "#def the n queen function\n",
    "\n",
    "global N\n",
    "N=4\n",
    "\n",
    "def printSolution(board):\n",
    "    for i in range(N):\n",
    "        for j in range(N):\n",
    "            print(board[i][j],end=' ')\n",
    "        print()\n",
    "        \n",
    "def isSafe(board,row,col):\n",
    "    \n",
    "\n",
    "def SolveNQ():\n",
    "    board = [ [0,0,0,0],\n",
    "              [0,0,0,0],\n",
    "              [0,0,0,0],\n",
    "              [0,0,0,0]\n",
    "            ]\n",
    "\n",
    "SolveNQ"
   ]
  },
  {
   "cell_type": "code",
   "execution_count": 21,
   "id": "6a8ce0ae",
   "metadata": {},
   "outputs": [
    {
     "ename": "NameError",
     "evalue": "name 'board' is not defined",
     "output_type": "error",
     "traceback": [
      "\u001b[1;31m---------------------------------------------------------------------------\u001b[0m",
      "\u001b[1;31mNameError\u001b[0m                                 Traceback (most recent call last)",
      "Cell \u001b[1;32mIn[21], line 1\u001b[0m\n\u001b[1;32m----> 1\u001b[0m printSolution(\u001b[43mboard\u001b[49m)\n",
      "\u001b[1;31mNameError\u001b[0m: name 'board' is not defined"
     ]
    }
   ],
   "source": []
  },
  {
   "cell_type": "code",
   "execution_count": null,
   "id": "ddf51a9d",
   "metadata": {},
   "outputs": [],
   "source": []
  },
  {
   "cell_type": "code",
   "execution_count": null,
   "id": "07df10db",
   "metadata": {},
   "outputs": [],
   "source": []
  },
  {
   "cell_type": "code",
   "execution_count": null,
   "id": "6b2e5b4b",
   "metadata": {},
   "outputs": [],
   "source": []
  }
 ],
 "metadata": {
  "kernelspec": {
   "display_name": "myenv",
   "language": "python",
   "name": "myenv"
  },
  "language_info": {
   "codemirror_mode": {
    "name": "ipython",
    "version": 3
   },
   "file_extension": ".py",
   "mimetype": "text/x-python",
   "name": "python",
   "nbconvert_exporter": "python",
   "pygments_lexer": "ipython3",
   "version": "3.8.18"
  }
 },
 "nbformat": 4,
 "nbformat_minor": 5
}

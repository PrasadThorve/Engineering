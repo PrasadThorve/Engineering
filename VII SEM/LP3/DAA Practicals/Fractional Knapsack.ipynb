{
 "cells": [
  {
   "cell_type": "code",
   "execution_count": 19,
   "id": "44a23851",
   "metadata": {},
   "outputs": [
    {
     "name": "stdout",
     "output_type": "stream",
     "text": [
      "280.0\n"
     ]
    }
   ],
   "source": [
    "#Defining class Item:\n",
    "class Item:\n",
    "    def __init__(self,profit,weight):\n",
    "        self.profit=profit\n",
    "        self.weight=weight\n",
    "        \n",
    "def fractionalKnapsack(W,arr):\n",
    "    \n",
    "    #first sort the array with hight profit/weight ration first\n",
    "    arr.sort(key= lambda x: (x.profit/x.weight),reverse=True)\n",
    "    \n",
    "    FinalProfit = 0.0\n",
    "    \n",
    "    for item in arr:\n",
    "        if item.weight<=W:\n",
    "            W-=item.weight\n",
    "            FinalProfit+=item.profit\n",
    "            \n",
    "        else:\n",
    "            FinalProfit+=(item.profit/item.weight)*W\n",
    "            break\n",
    "            \n",
    "        \n",
    "    return FinalProfit\n",
    "\n",
    "\n",
    "#Driver Code\n",
    "if __name__ == \"__main__\":\n",
    "    W = 60\n",
    "    arr = [Item(60,10),Item(100,20),Item(120,30)]\n",
    "    \n",
    "    \n",
    "    \n",
    "    TotalProfit = fractionalKnapsack(W,arr)\n",
    "    print(TotalProfit)\n",
    "    "
   ]
  },
  {
   "cell_type": "code",
   "execution_count": null,
   "id": "97783d08",
   "metadata": {},
   "outputs": [],
   "source": []
  }
 ],
 "metadata": {
  "kernelspec": {
   "display_name": "myenv",
   "language": "python",
   "name": "myenv"
  },
  "language_info": {
   "codemirror_mode": {
    "name": "ipython",
    "version": 3
   },
   "file_extension": ".py",
   "mimetype": "text/x-python",
   "name": "python",
   "nbconvert_exporter": "python",
   "pygments_lexer": "ipython3",
   "version": "3.8.18"
  }
 },
 "nbformat": 4,
 "nbformat_minor": 5
}

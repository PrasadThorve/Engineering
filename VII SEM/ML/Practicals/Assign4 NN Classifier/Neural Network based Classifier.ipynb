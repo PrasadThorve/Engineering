{
 "cells": [
  {
   "cell_type": "markdown",
   "id": "713d793d",
   "metadata": {},
   "source": [
    "#### Problem Statement: \n",
    "##### Given a bank customer, build a neural network-based classifier that can determine whether they will leave or not in the next 6 months.\n",
    "##### Perform following steps: \n",
    "######  1. Read the dataset. \n",
    "###### 2. Distinguish the feature and target set and divide the data set into training and test sets. \n",
    "###### 3. Normalize the train and test data. \n",
    "###### 4.Initialize and build the model. Identify the points of improvement and implement the same. \n",
    "###### 5. Print the accuracy score and confusion matrix "
   ]
  },
  {
   "cell_type": "code",
   "execution_count": 1,
   "id": "d69716e6",
   "metadata": {},
   "outputs": [],
   "source": [
    "import pandas as pd"
   ]
  },
  {
   "cell_type": "code",
   "execution_count": 2,
   "id": "93857fe7",
   "metadata": {},
   "outputs": [],
   "source": [
    "df = pd.read_csv('Churn_Modelling.csv')"
   ]
  },
  {
   "cell_type": "code",
   "execution_count": 3,
   "id": "f7751f06",
   "metadata": {},
   "outputs": [
    {
     "data": {
      "text/html": [
       "<div>\n",
       "<style scoped>\n",
       "    .dataframe tbody tr th:only-of-type {\n",
       "        vertical-align: middle;\n",
       "    }\n",
       "\n",
       "    .dataframe tbody tr th {\n",
       "        vertical-align: top;\n",
       "    }\n",
       "\n",
       "    .dataframe thead th {\n",
       "        text-align: right;\n",
       "    }\n",
       "</style>\n",
       "<table border=\"1\" class=\"dataframe\">\n",
       "  <thead>\n",
       "    <tr style=\"text-align: right;\">\n",
       "      <th></th>\n",
       "      <th>RowNumber</th>\n",
       "      <th>CustomerId</th>\n",
       "      <th>Surname</th>\n",
       "      <th>CreditScore</th>\n",
       "      <th>Geography</th>\n",
       "      <th>Gender</th>\n",
       "      <th>Age</th>\n",
       "      <th>Tenure</th>\n",
       "      <th>Balance</th>\n",
       "      <th>NumOfProducts</th>\n",
       "      <th>HasCrCard</th>\n",
       "      <th>IsActiveMember</th>\n",
       "      <th>EstimatedSalary</th>\n",
       "      <th>Exited</th>\n",
       "    </tr>\n",
       "  </thead>\n",
       "  <tbody>\n",
       "    <tr>\n",
       "      <th>0</th>\n",
       "      <td>1</td>\n",
       "      <td>15634602</td>\n",
       "      <td>Hargrave</td>\n",
       "      <td>619</td>\n",
       "      <td>France</td>\n",
       "      <td>Female</td>\n",
       "      <td>42</td>\n",
       "      <td>2</td>\n",
       "      <td>0.00</td>\n",
       "      <td>1</td>\n",
       "      <td>1</td>\n",
       "      <td>1</td>\n",
       "      <td>101348.88</td>\n",
       "      <td>1</td>\n",
       "    </tr>\n",
       "    <tr>\n",
       "      <th>1</th>\n",
       "      <td>2</td>\n",
       "      <td>15647311</td>\n",
       "      <td>Hill</td>\n",
       "      <td>608</td>\n",
       "      <td>Spain</td>\n",
       "      <td>Female</td>\n",
       "      <td>41</td>\n",
       "      <td>1</td>\n",
       "      <td>83807.86</td>\n",
       "      <td>1</td>\n",
       "      <td>0</td>\n",
       "      <td>1</td>\n",
       "      <td>112542.58</td>\n",
       "      <td>0</td>\n",
       "    </tr>\n",
       "    <tr>\n",
       "      <th>2</th>\n",
       "      <td>3</td>\n",
       "      <td>15619304</td>\n",
       "      <td>Onio</td>\n",
       "      <td>502</td>\n",
       "      <td>France</td>\n",
       "      <td>Female</td>\n",
       "      <td>42</td>\n",
       "      <td>8</td>\n",
       "      <td>159660.80</td>\n",
       "      <td>3</td>\n",
       "      <td>1</td>\n",
       "      <td>0</td>\n",
       "      <td>113931.57</td>\n",
       "      <td>1</td>\n",
       "    </tr>\n",
       "    <tr>\n",
       "      <th>3</th>\n",
       "      <td>4</td>\n",
       "      <td>15701354</td>\n",
       "      <td>Boni</td>\n",
       "      <td>699</td>\n",
       "      <td>France</td>\n",
       "      <td>Female</td>\n",
       "      <td>39</td>\n",
       "      <td>1</td>\n",
       "      <td>0.00</td>\n",
       "      <td>2</td>\n",
       "      <td>0</td>\n",
       "      <td>0</td>\n",
       "      <td>93826.63</td>\n",
       "      <td>0</td>\n",
       "    </tr>\n",
       "    <tr>\n",
       "      <th>4</th>\n",
       "      <td>5</td>\n",
       "      <td>15737888</td>\n",
       "      <td>Mitchell</td>\n",
       "      <td>850</td>\n",
       "      <td>Spain</td>\n",
       "      <td>Female</td>\n",
       "      <td>43</td>\n",
       "      <td>2</td>\n",
       "      <td>125510.82</td>\n",
       "      <td>1</td>\n",
       "      <td>1</td>\n",
       "      <td>1</td>\n",
       "      <td>79084.10</td>\n",
       "      <td>0</td>\n",
       "    </tr>\n",
       "  </tbody>\n",
       "</table>\n",
       "</div>"
      ],
      "text/plain": [
       "   RowNumber  CustomerId   Surname  CreditScore Geography  Gender  Age  \\\n",
       "0          1    15634602  Hargrave          619    France  Female   42   \n",
       "1          2    15647311      Hill          608     Spain  Female   41   \n",
       "2          3    15619304      Onio          502    France  Female   42   \n",
       "3          4    15701354      Boni          699    France  Female   39   \n",
       "4          5    15737888  Mitchell          850     Spain  Female   43   \n",
       "\n",
       "   Tenure    Balance  NumOfProducts  HasCrCard  IsActiveMember  \\\n",
       "0       2       0.00              1          1               1   \n",
       "1       1   83807.86              1          0               1   \n",
       "2       8  159660.80              3          1               0   \n",
       "3       1       0.00              2          0               0   \n",
       "4       2  125510.82              1          1               1   \n",
       "\n",
       "   EstimatedSalary  Exited  \n",
       "0        101348.88       1  \n",
       "1        112542.58       0  \n",
       "2        113931.57       1  \n",
       "3         93826.63       0  \n",
       "4         79084.10       0  "
      ]
     },
     "execution_count": 3,
     "metadata": {},
     "output_type": "execute_result"
    }
   ],
   "source": [
    "df.head()"
   ]
  },
  {
   "cell_type": "code",
   "execution_count": 4,
   "id": "15783fbf",
   "metadata": {},
   "outputs": [
    {
     "data": {
      "text/plain": [
       "RowNumber          0\n",
       "CustomerId         0\n",
       "Surname            0\n",
       "CreditScore        0\n",
       "Geography          0\n",
       "Gender             0\n",
       "Age                0\n",
       "Tenure             0\n",
       "Balance            0\n",
       "NumOfProducts      0\n",
       "HasCrCard          0\n",
       "IsActiveMember     0\n",
       "EstimatedSalary    0\n",
       "Exited             0\n",
       "dtype: int64"
      ]
     },
     "execution_count": 4,
     "metadata": {},
     "output_type": "execute_result"
    }
   ],
   "source": [
    "df.isnull().sum()"
   ]
  },
  {
   "cell_type": "code",
   "execution_count": 5,
   "id": "c80665f2",
   "metadata": {},
   "outputs": [
    {
     "data": {
      "text/html": [
       "<div>\n",
       "<style scoped>\n",
       "    .dataframe tbody tr th:only-of-type {\n",
       "        vertical-align: middle;\n",
       "    }\n",
       "\n",
       "    .dataframe tbody tr th {\n",
       "        vertical-align: top;\n",
       "    }\n",
       "\n",
       "    .dataframe thead th {\n",
       "        text-align: right;\n",
       "    }\n",
       "</style>\n",
       "<table border=\"1\" class=\"dataframe\">\n",
       "  <thead>\n",
       "    <tr style=\"text-align: right;\">\n",
       "      <th></th>\n",
       "      <th>RowNumber</th>\n",
       "      <th>CustomerId</th>\n",
       "      <th>CreditScore</th>\n",
       "      <th>Age</th>\n",
       "      <th>Tenure</th>\n",
       "      <th>Balance</th>\n",
       "      <th>NumOfProducts</th>\n",
       "      <th>HasCrCard</th>\n",
       "      <th>IsActiveMember</th>\n",
       "      <th>EstimatedSalary</th>\n",
       "      <th>Exited</th>\n",
       "    </tr>\n",
       "  </thead>\n",
       "  <tbody>\n",
       "    <tr>\n",
       "      <th>count</th>\n",
       "      <td>10000.00000</td>\n",
       "      <td>1.000000e+04</td>\n",
       "      <td>10000.000000</td>\n",
       "      <td>10000.000000</td>\n",
       "      <td>10000.000000</td>\n",
       "      <td>10000.000000</td>\n",
       "      <td>10000.000000</td>\n",
       "      <td>10000.00000</td>\n",
       "      <td>10000.000000</td>\n",
       "      <td>10000.000000</td>\n",
       "      <td>10000.000000</td>\n",
       "    </tr>\n",
       "    <tr>\n",
       "      <th>mean</th>\n",
       "      <td>5000.50000</td>\n",
       "      <td>1.569094e+07</td>\n",
       "      <td>650.528800</td>\n",
       "      <td>38.921800</td>\n",
       "      <td>5.012800</td>\n",
       "      <td>76485.889288</td>\n",
       "      <td>1.530200</td>\n",
       "      <td>0.70550</td>\n",
       "      <td>0.515100</td>\n",
       "      <td>100090.239881</td>\n",
       "      <td>0.203700</td>\n",
       "    </tr>\n",
       "    <tr>\n",
       "      <th>std</th>\n",
       "      <td>2886.89568</td>\n",
       "      <td>7.193619e+04</td>\n",
       "      <td>96.653299</td>\n",
       "      <td>10.487806</td>\n",
       "      <td>2.892174</td>\n",
       "      <td>62397.405202</td>\n",
       "      <td>0.581654</td>\n",
       "      <td>0.45584</td>\n",
       "      <td>0.499797</td>\n",
       "      <td>57510.492818</td>\n",
       "      <td>0.402769</td>\n",
       "    </tr>\n",
       "    <tr>\n",
       "      <th>min</th>\n",
       "      <td>1.00000</td>\n",
       "      <td>1.556570e+07</td>\n",
       "      <td>350.000000</td>\n",
       "      <td>18.000000</td>\n",
       "      <td>0.000000</td>\n",
       "      <td>0.000000</td>\n",
       "      <td>1.000000</td>\n",
       "      <td>0.00000</td>\n",
       "      <td>0.000000</td>\n",
       "      <td>11.580000</td>\n",
       "      <td>0.000000</td>\n",
       "    </tr>\n",
       "    <tr>\n",
       "      <th>25%</th>\n",
       "      <td>2500.75000</td>\n",
       "      <td>1.562853e+07</td>\n",
       "      <td>584.000000</td>\n",
       "      <td>32.000000</td>\n",
       "      <td>3.000000</td>\n",
       "      <td>0.000000</td>\n",
       "      <td>1.000000</td>\n",
       "      <td>0.00000</td>\n",
       "      <td>0.000000</td>\n",
       "      <td>51002.110000</td>\n",
       "      <td>0.000000</td>\n",
       "    </tr>\n",
       "    <tr>\n",
       "      <th>50%</th>\n",
       "      <td>5000.50000</td>\n",
       "      <td>1.569074e+07</td>\n",
       "      <td>652.000000</td>\n",
       "      <td>37.000000</td>\n",
       "      <td>5.000000</td>\n",
       "      <td>97198.540000</td>\n",
       "      <td>1.000000</td>\n",
       "      <td>1.00000</td>\n",
       "      <td>1.000000</td>\n",
       "      <td>100193.915000</td>\n",
       "      <td>0.000000</td>\n",
       "    </tr>\n",
       "    <tr>\n",
       "      <th>75%</th>\n",
       "      <td>7500.25000</td>\n",
       "      <td>1.575323e+07</td>\n",
       "      <td>718.000000</td>\n",
       "      <td>44.000000</td>\n",
       "      <td>7.000000</td>\n",
       "      <td>127644.240000</td>\n",
       "      <td>2.000000</td>\n",
       "      <td>1.00000</td>\n",
       "      <td>1.000000</td>\n",
       "      <td>149388.247500</td>\n",
       "      <td>0.000000</td>\n",
       "    </tr>\n",
       "    <tr>\n",
       "      <th>max</th>\n",
       "      <td>10000.00000</td>\n",
       "      <td>1.581569e+07</td>\n",
       "      <td>850.000000</td>\n",
       "      <td>92.000000</td>\n",
       "      <td>10.000000</td>\n",
       "      <td>250898.090000</td>\n",
       "      <td>4.000000</td>\n",
       "      <td>1.00000</td>\n",
       "      <td>1.000000</td>\n",
       "      <td>199992.480000</td>\n",
       "      <td>1.000000</td>\n",
       "    </tr>\n",
       "  </tbody>\n",
       "</table>\n",
       "</div>"
      ],
      "text/plain": [
       "         RowNumber    CustomerId   CreditScore           Age        Tenure  \\\n",
       "count  10000.00000  1.000000e+04  10000.000000  10000.000000  10000.000000   \n",
       "mean    5000.50000  1.569094e+07    650.528800     38.921800      5.012800   \n",
       "std     2886.89568  7.193619e+04     96.653299     10.487806      2.892174   \n",
       "min        1.00000  1.556570e+07    350.000000     18.000000      0.000000   \n",
       "25%     2500.75000  1.562853e+07    584.000000     32.000000      3.000000   \n",
       "50%     5000.50000  1.569074e+07    652.000000     37.000000      5.000000   \n",
       "75%     7500.25000  1.575323e+07    718.000000     44.000000      7.000000   \n",
       "max    10000.00000  1.581569e+07    850.000000     92.000000     10.000000   \n",
       "\n",
       "             Balance  NumOfProducts    HasCrCard  IsActiveMember  \\\n",
       "count   10000.000000   10000.000000  10000.00000    10000.000000   \n",
       "mean    76485.889288       1.530200      0.70550        0.515100   \n",
       "std     62397.405202       0.581654      0.45584        0.499797   \n",
       "min         0.000000       1.000000      0.00000        0.000000   \n",
       "25%         0.000000       1.000000      0.00000        0.000000   \n",
       "50%     97198.540000       1.000000      1.00000        1.000000   \n",
       "75%    127644.240000       2.000000      1.00000        1.000000   \n",
       "max    250898.090000       4.000000      1.00000        1.000000   \n",
       "\n",
       "       EstimatedSalary        Exited  \n",
       "count     10000.000000  10000.000000  \n",
       "mean     100090.239881      0.203700  \n",
       "std       57510.492818      0.402769  \n",
       "min          11.580000      0.000000  \n",
       "25%       51002.110000      0.000000  \n",
       "50%      100193.915000      0.000000  \n",
       "75%      149388.247500      0.000000  \n",
       "max      199992.480000      1.000000  "
      ]
     },
     "execution_count": 5,
     "metadata": {},
     "output_type": "execute_result"
    }
   ],
   "source": [
    "df.describe()"
   ]
  },
  {
   "cell_type": "code",
   "execution_count": 6,
   "id": "04024051",
   "metadata": {},
   "outputs": [
    {
     "data": {
      "text/plain": [
       "RowNumber            int64\n",
       "CustomerId           int64\n",
       "Surname             object\n",
       "CreditScore          int64\n",
       "Geography           object\n",
       "Gender              object\n",
       "Age                  int64\n",
       "Tenure               int64\n",
       "Balance            float64\n",
       "NumOfProducts        int64\n",
       "HasCrCard            int64\n",
       "IsActiveMember       int64\n",
       "EstimatedSalary    float64\n",
       "Exited               int64\n",
       "dtype: object"
      ]
     },
     "execution_count": 6,
     "metadata": {},
     "output_type": "execute_result"
    }
   ],
   "source": [
    "df.dtypes\n"
   ]
  },
  {
   "cell_type": "code",
   "execution_count": 7,
   "id": "49fd1557",
   "metadata": {},
   "outputs": [],
   "source": [
    "#deleting unncessory columns\n",
    "df = df.drop(['RowNumber','CustomerId','Surname'],axis=1)"
   ]
  },
  {
   "cell_type": "code",
   "execution_count": 8,
   "id": "24260885",
   "metadata": {},
   "outputs": [
    {
     "data": {
      "text/plain": [
       "CreditScore          int64\n",
       "Geography           object\n",
       "Gender              object\n",
       "Age                  int64\n",
       "Tenure               int64\n",
       "Balance            float64\n",
       "NumOfProducts        int64\n",
       "HasCrCard            int64\n",
       "IsActiveMember       int64\n",
       "EstimatedSalary    float64\n",
       "Exited               int64\n",
       "dtype: object"
      ]
     },
     "execution_count": 8,
     "metadata": {},
     "output_type": "execute_result"
    }
   ],
   "source": [
    "df.dtypes"
   ]
  },
  {
   "cell_type": "code",
   "execution_count": 9,
   "id": "00be3d3c",
   "metadata": {},
   "outputs": [
    {
     "data": {
      "text/plain": [
       "Index(['CreditScore', 'Geography', 'Gender', 'Age', 'Tenure', 'Balance',\n",
       "       'NumOfProducts', 'HasCrCard', 'IsActiveMember', 'EstimatedSalary',\n",
       "       'Exited'],\n",
       "      dtype='object')"
      ]
     },
     "execution_count": 9,
     "metadata": {},
     "output_type": "execute_result"
    }
   ],
   "source": [
    "df.columns"
   ]
  },
  {
   "cell_type": "code",
   "execution_count": 10,
   "id": "593d87a6",
   "metadata": {},
   "outputs": [
    {
     "name": "stdout",
     "output_type": "stream",
     "text": [
      "<class 'pandas.core.frame.DataFrame'>\n",
      "RangeIndex: 10000 entries, 0 to 9999\n",
      "Data columns (total 11 columns):\n",
      " #   Column           Non-Null Count  Dtype  \n",
      "---  ------           --------------  -----  \n",
      " 0   CreditScore      10000 non-null  int64  \n",
      " 1   Geography        10000 non-null  object \n",
      " 2   Gender           10000 non-null  object \n",
      " 3   Age              10000 non-null  int64  \n",
      " 4   Tenure           10000 non-null  int64  \n",
      " 5   Balance          10000 non-null  float64\n",
      " 6   NumOfProducts    10000 non-null  int64  \n",
      " 7   HasCrCard        10000 non-null  int64  \n",
      " 8   IsActiveMember   10000 non-null  int64  \n",
      " 9   EstimatedSalary  10000 non-null  float64\n",
      " 10  Exited           10000 non-null  int64  \n",
      "dtypes: float64(2), int64(7), object(2)\n",
      "memory usage: 859.5+ KB\n"
     ]
    }
   ],
   "source": [
    "df.info()"
   ]
  },
  {
   "cell_type": "code",
   "execution_count": 11,
   "id": "8b67b7b5",
   "metadata": {},
   "outputs": [],
   "source": [
    "import seaborn as sns\n",
    "import matplotlib.pyplot as plt"
   ]
  },
  {
   "cell_type": "code",
   "execution_count": 12,
   "id": "414ae9f4",
   "metadata": {},
   "outputs": [],
   "source": [
    "def visualization(x,y,xlabel):\n",
    "    plt.figure(figsize=(10,5))\n",
    "    plt.hist([x,y],color=['red','green'],label=['exit','not-exit'])\n",
    "    plt.xlabel(xlabel,fontsize=20)\n",
    "    plt.ylabel(\"No. of customers\",fontsize=20)\n",
    "    plt.legend()"
   ]
  },
  {
   "cell_type": "code",
   "execution_count": 13,
   "id": "e577ada4",
   "metadata": {},
   "outputs": [],
   "source": [
    "df_churn_exited = df[df['Exited']==1]['Tenure']\n",
    "df_churn_not_exited = df[df['Exited']==0]['Tenure']"
   ]
  },
  {
   "cell_type": "code",
   "execution_count": 14,
   "id": "0ef867bc",
   "metadata": {},
   "outputs": [
    {
     "data": {
      "image/png": "[encoded data removed]",
      "text/plain": [
       "<Figure size 1000x500 with 1 Axes>"
      ]
     },
     "metadata": {},
     "output_type": "display_data"
    }
   ],
   "source": [
    "visualization(df_churn_exited,df_churn_not_exited,\"Tenure\")"
   ]
  },
  {
   "cell_type": "code",
   "execution_count": 15,
   "id": "36e5164e",
   "metadata": {},
   "outputs": [],
   "source": [
    "df_churn_exited_age = df[df['Exited']==1]['Age']\n",
    "df_churn_not_exited_age = df[df['Exited']==0]['Age']"
   ]
  },
  {
   "cell_type": "code",
   "execution_count": 16,
   "id": "87606811",
   "metadata": {},
   "outputs": [
    {
     "data": {
      "image/png": "[encoded data removed]",
      "text/plain": [
       "<Figure size 1000x500 with 1 Axes>"
      ]
     },
     "metadata": {},
     "output_type": "display_data"
    }
   ],
   "source": [
    "visualization(df_churn_exited_age,df_churn_not_exited_age,\"age\")"
   ]
  },
  {
   "cell_type": "code",
   "execution_count": 17,
   "id": "83a1973e",
   "metadata": {},
   "outputs": [],
   "source": [
    "x=df.drop(['Exited'],axis=1)\n",
    "\n",
    "#here we are performing one hot encoding to convert the categorical data to binary values(0,1)\n",
    "# get_dummies : perform one-hot encoding\n",
    "# drop_first = True is use to avoid multicollinearity (drop the first column created)\n",
    "states = pd.get_dummies(df['Geography'],drop_first=True)\n",
    "gender = pd.get_dummies(df['Gender'],drop_first=True)"
   ]
  },
  {
   "cell_type": "code",
   "execution_count": null,
   "id": "aaf9e27f",
   "metadata": {},
   "outputs": [],
   "source": []
  },
  {
   "cell_type": "code",
   "execution_count": 18,
   "id": "7809e314",
   "metadata": {},
   "outputs": [],
   "source": [
    "df = pd.concat([df,gender,states],axis=1)"
   ]
  },
  {
   "cell_type": "code",
   "execution_count": 19,
   "id": "7c368540",
   "metadata": {},
   "outputs": [
    {
     "data": {
      "text/html": [
       "<div>\n",
       "<style scoped>\n",
       "    .dataframe tbody tr th:only-of-type {\n",
       "        vertical-align: middle;\n",
       "    }\n",
       "\n",
       "    .dataframe tbody tr th {\n",
       "        vertical-align: top;\n",
       "    }\n",
       "\n",
       "    .dataframe thead th {\n",
       "        text-align: right;\n",
       "    }\n",
       "</style>\n",
       "<table border=\"1\" class=\"dataframe\">\n",
       "  <thead>\n",
       "    <tr style=\"text-align: right;\">\n",
       "      <th></th>\n",
       "      <th>CreditScore</th>\n",
       "      <th>Geography</th>\n",
       "      <th>Gender</th>\n",
       "      <th>Age</th>\n",
       "      <th>Tenure</th>\n",
       "      <th>Balance</th>\n",
       "      <th>NumOfProducts</th>\n",
       "      <th>HasCrCard</th>\n",
       "      <th>IsActiveMember</th>\n",
       "      <th>EstimatedSalary</th>\n",
       "      <th>Exited</th>\n",
       "      <th>Male</th>\n",
       "      <th>Germany</th>\n",
       "      <th>Spain</th>\n",
       "    </tr>\n",
       "  </thead>\n",
       "  <tbody>\n",
       "    <tr>\n",
       "      <th>0</th>\n",
       "      <td>619</td>\n",
       "      <td>France</td>\n",
       "      <td>Female</td>\n",
       "      <td>42</td>\n",
       "      <td>2</td>\n",
       "      <td>0.00</td>\n",
       "      <td>1</td>\n",
       "      <td>1</td>\n",
       "      <td>1</td>\n",
       "      <td>101348.88</td>\n",
       "      <td>1</td>\n",
       "      <td>False</td>\n",
       "      <td>False</td>\n",
       "      <td>False</td>\n",
       "    </tr>\n",
       "    <tr>\n",
       "      <th>1</th>\n",
       "      <td>608</td>\n",
       "      <td>Spain</td>\n",
       "      <td>Female</td>\n",
       "      <td>41</td>\n",
       "      <td>1</td>\n",
       "      <td>83807.86</td>\n",
       "      <td>1</td>\n",
       "      <td>0</td>\n",
       "      <td>1</td>\n",
       "      <td>112542.58</td>\n",
       "      <td>0</td>\n",
       "      <td>False</td>\n",
       "      <td>False</td>\n",
       "      <td>True</td>\n",
       "    </tr>\n",
       "    <tr>\n",
       "      <th>2</th>\n",
       "      <td>502</td>\n",
       "      <td>France</td>\n",
       "      <td>Female</td>\n",
       "      <td>42</td>\n",
       "      <td>8</td>\n",
       "      <td>159660.80</td>\n",
       "      <td>3</td>\n",
       "      <td>1</td>\n",
       "      <td>0</td>\n",
       "      <td>113931.57</td>\n",
       "      <td>1</td>\n",
       "      <td>False</td>\n",
       "      <td>False</td>\n",
       "      <td>False</td>\n",
       "    </tr>\n",
       "    <tr>\n",
       "      <th>3</th>\n",
       "      <td>699</td>\n",
       "      <td>France</td>\n",
       "      <td>Female</td>\n",
       "      <td>39</td>\n",
       "      <td>1</td>\n",
       "      <td>0.00</td>\n",
       "      <td>2</td>\n",
       "      <td>0</td>\n",
       "      <td>0</td>\n",
       "      <td>93826.63</td>\n",
       "      <td>0</td>\n",
       "      <td>False</td>\n",
       "      <td>False</td>\n",
       "      <td>False</td>\n",
       "    </tr>\n",
       "    <tr>\n",
       "      <th>4</th>\n",
       "      <td>850</td>\n",
       "      <td>Spain</td>\n",
       "      <td>Female</td>\n",
       "      <td>43</td>\n",
       "      <td>2</td>\n",
       "      <td>125510.82</td>\n",
       "      <td>1</td>\n",
       "      <td>1</td>\n",
       "      <td>1</td>\n",
       "      <td>79084.10</td>\n",
       "      <td>0</td>\n",
       "      <td>False</td>\n",
       "      <td>False</td>\n",
       "      <td>True</td>\n",
       "    </tr>\n",
       "    <tr>\n",
       "      <th>...</th>\n",
       "      <td>...</td>\n",
       "      <td>...</td>\n",
       "      <td>...</td>\n",
       "      <td>...</td>\n",
       "      <td>...</td>\n",
       "      <td>...</td>\n",
       "      <td>...</td>\n",
       "      <td>...</td>\n",
       "      <td>...</td>\n",
       "      <td>...</td>\n",
       "      <td>...</td>\n",
       "      <td>...</td>\n",
       "      <td>...</td>\n",
       "      <td>...</td>\n",
       "    </tr>\n",
       "    <tr>\n",
       "      <th>9995</th>\n",
       "      <td>771</td>\n",
       "      <td>France</td>\n",
       "      <td>Male</td>\n",
       "      <td>39</td>\n",
       "      <td>5</td>\n",
       "      <td>0.00</td>\n",
       "      <td>2</td>\n",
       "      <td>1</td>\n",
       "      <td>0</td>\n",
       "      <td>96270.64</td>\n",
       "      <td>0</td>\n",
       "      <td>True</td>\n",
       "      <td>False</td>\n",
       "      <td>False</td>\n",
       "    </tr>\n",
       "    <tr>\n",
       "      <th>9996</th>\n",
       "      <td>516</td>\n",
       "      <td>France</td>\n",
       "      <td>Male</td>\n",
       "      <td>35</td>\n",
       "      <td>10</td>\n",
       "      <td>57369.61</td>\n",
       "      <td>1</td>\n",
       "      <td>1</td>\n",
       "      <td>1</td>\n",
       "      <td>101699.77</td>\n",
       "      <td>0</td>\n",
       "      <td>True</td>\n",
       "      <td>False</td>\n",
       "      <td>False</td>\n",
       "    </tr>\n",
       "    <tr>\n",
       "      <th>9997</th>\n",
       "      <td>709</td>\n",
       "      <td>France</td>\n",
       "      <td>Female</td>\n",
       "      <td>36</td>\n",
       "      <td>7</td>\n",
       "      <td>0.00</td>\n",
       "      <td>1</td>\n",
       "      <td>0</td>\n",
       "      <td>1</td>\n",
       "      <td>42085.58</td>\n",
       "      <td>1</td>\n",
       "      <td>False</td>\n",
       "      <td>False</td>\n",
       "      <td>False</td>\n",
       "    </tr>\n",
       "    <tr>\n",
       "      <th>9998</th>\n",
       "      <td>772</td>\n",
       "      <td>Germany</td>\n",
       "      <td>Male</td>\n",
       "      <td>42</td>\n",
       "      <td>3</td>\n",
       "      <td>75075.31</td>\n",
       "      <td>2</td>\n",
       "      <td>1</td>\n",
       "      <td>0</td>\n",
       "      <td>92888.52</td>\n",
       "      <td>1</td>\n",
       "      <td>True</td>\n",
       "      <td>True</td>\n",
       "      <td>False</td>\n",
       "    </tr>\n",
       "    <tr>\n",
       "      <th>9999</th>\n",
       "      <td>792</td>\n",
       "      <td>France</td>\n",
       "      <td>Female</td>\n",
       "      <td>28</td>\n",
       "      <td>4</td>\n",
       "      <td>130142.79</td>\n",
       "      <td>1</td>\n",
       "      <td>1</td>\n",
       "      <td>0</td>\n",
       "      <td>38190.78</td>\n",
       "      <td>0</td>\n",
       "      <td>False</td>\n",
       "      <td>False</td>\n",
       "      <td>False</td>\n",
       "    </tr>\n",
       "  </tbody>\n",
       "</table>\n",
       "<p>10000 rows × 14 columns</p>\n",
       "</div>"
      ],
      "text/plain": [
       "      CreditScore Geography  Gender  Age  Tenure    Balance  NumOfProducts  \\\n",
       "0             619    France  Female   42       2       0.00              1   \n",
       "1             608     Spain  Female   41       1   83807.86              1   \n",
       "2             502    France  Female   42       8  159660.80              3   \n",
       "3             699    France  Female   39       1       0.00              2   \n",
       "4             850     Spain  Female   43       2  125510.82              1   \n",
       "...           ...       ...     ...  ...     ...        ...            ...   \n",
       "9995          771    France    Male   39       5       0.00              2   \n",
       "9996          516    France    Male   35      10   57369.61              1   \n",
       "9997          709    France  Female   36       7       0.00              1   \n",
       "9998          772   Germany    Male   42       3   75075.31              2   \n",
       "9999          792    France  Female   28       4  130142.79              1   \n",
       "\n",
       "      HasCrCard  IsActiveMember  EstimatedSalary  Exited   Male  Germany  \\\n",
       "0             1               1        101348.88       1  False    False   \n",
       "1             0               1        112542.58       0  False    False   \n",
       "2             1               0        113931.57       1  False    False   \n",
       "3             0               0         93826.63       0  False    False   \n",
       "4             1               1         79084.10       0  False    False   \n",
       "...         ...             ...              ...     ...    ...      ...   \n",
       "9995          1               0         96270.64       0   True    False   \n",
       "9996          1               1        101699.77       0   True    False   \n",
       "9997          0               1         42085.58       1  False    False   \n",
       "9998          1               0         92888.52       1   True     True   \n",
       "9999          1               0         38190.78       0  False    False   \n",
       "\n",
       "      Spain  \n",
       "0     False  \n",
       "1      True  \n",
       "2     False  \n",
       "3     False  \n",
       "4      True  \n",
       "...     ...  \n",
       "9995  False  \n",
       "9996  False  \n",
       "9997  False  \n",
       "9998  False  \n",
       "9999  False  \n",
       "\n",
       "[10000 rows x 14 columns]"
      ]
     },
     "execution_count": 19,
     "metadata": {},
     "output_type": "execute_result"
    }
   ],
   "source": [
    "df"
   ]
  },
  {
   "cell_type": "code",
   "execution_count": 20,
   "id": "461c02a8",
   "metadata": {},
   "outputs": [],
   "source": [
    "x = df.drop(['Exited','Geography','Gender'], axis=1)"
   ]
  },
  {
   "cell_type": "code",
   "execution_count": 21,
   "id": "9d6e3848",
   "metadata": {},
   "outputs": [],
   "source": [
    "y = df['Exited']"
   ]
  },
  {
   "cell_type": "code",
   "execution_count": 22,
   "id": "a6f2ff5c",
   "metadata": {},
   "outputs": [],
   "source": [
    "from sklearn.model_selection import train_test_split\n",
    "from sklearn.preprocessing import StandardScaler"
   ]
  },
  {
   "cell_type": "code",
   "execution_count": 23,
   "id": "d9d33093",
   "metadata": {},
   "outputs": [],
   "source": [
    "x_train,x_test,y_train,y_test = train_test_split(x,y,test_size=0.3)"
   ]
  },
  {
   "cell_type": "code",
   "execution_count": 24,
   "id": "a9635b43",
   "metadata": {},
   "outputs": [],
   "source": [
    "sc = StandardScaler()"
   ]
  },
  {
   "cell_type": "code",
   "execution_count": 25,
   "id": "59c4e921",
   "metadata": {},
   "outputs": [],
   "source": [
    "x_train = sc.fit_transform(x_train)\n",
    "x_test = sc.transform(x_test)"
   ]
  },
  {
   "cell_type": "markdown",
   "id": "908cf224",
   "metadata": {},
   "source": [
    "## Model building"
   ]
  },
  {
   "cell_type": "code",
   "execution_count": 32,
   "id": "20dcb26d",
   "metadata": {},
   "outputs": [],
   "source": [
    "# !pip install tensorflow --user\n"
   ]
  },
  {
   "cell_type": "code",
   "execution_count": 33,
   "id": "92e2e7b7",
   "metadata": {},
   "outputs": [],
   "source": [
    "import tensorflow as tf"
   ]
  },
  {
   "cell_type": "code",
   "execution_count": 34,
   "id": "8d7f046e",
   "metadata": {},
   "outputs": [],
   "source": [
    "from tensorflow import keras #keras is used for developing and training deep learning model\n",
    "from keras.models import Sequential #to create sequential neural network\n",
    "from keras.layers import Dense #to create hidden layer\n",
    "from sklearn.metrics import confusion_matrix, accuracy_score"
   ]
  },
  {
   "cell_type": "code",
   "execution_count": 36,
   "id": "3fe84a99",
   "metadata": {},
   "outputs": [],
   "source": [
    "model = Sequential() #model initialization\n",
    "model.add(Dense(7,activation='relu'))\n",
    "model.add(Dense(10,activation='relu'))\n",
    "model.add(Dense(1,activation='sigmoid'))"
   ]
  },
  {
   "cell_type": "code",
   "execution_count": 38,
   "id": "bcef2b04",
   "metadata": {},
   "outputs": [],
   "source": [
    "optimizer = tf.keras.optimizers.Adam(0.01)"
   ]
  },
  {
   "cell_type": "code",
   "execution_count": 39,
   "id": "d1371f8d",
   "metadata": {},
   "outputs": [],
   "source": [
    "model.compile(loss='binary_crossentropy',optimizer=optimizer,metrics=['accuracy'])"
   ]
  },
  {
   "cell_type": "code",
   "execution_count": 40,
   "id": "2cd52662",
   "metadata": {},
   "outputs": [
    {
     "name": "stdout",
     "output_type": "stream",
     "text": [
      "Epoch 1/100\n",
      "700/700 [==============================] - 5s 4ms/step - loss: 0.4315 - accuracy: 0.8110\n",
      "Epoch 2/100\n",
      "700/700 [==============================] - 3s 4ms/step - loss: 0.3708 - accuracy: 0.8464\n",
      "Epoch 3/100\n",
      "700/700 [==============================] - 3s 4ms/step - loss: 0.3624 - accuracy: 0.8514\n",
      "Epoch 4/100\n",
      "700/700 [==============================] - 2s 4ms/step - loss: 0.3573 - accuracy: 0.8556\n",
      "Epoch 5/100\n",
      "700/700 [==============================] - 2s 3ms/step - loss: 0.3554 - accuracy: 0.8544\n",
      "Epoch 6/100\n",
      "700/700 [==============================] - 3s 4ms/step - loss: 0.3524 - accuracy: 0.8554\n",
      "Epoch 7/100\n",
      "700/700 [==============================] - 3s 4ms/step - loss: 0.3526 - accuracy: 0.8554\n",
      "Epoch 8/100\n",
      "700/700 [==============================] - 2s 3ms/step - loss: 0.3514 - accuracy: 0.8566\n",
      "Epoch 9/100\n",
      "700/700 [==============================] - 2s 3ms/step - loss: 0.3482 - accuracy: 0.8583\n",
      "Epoch 10/100\n",
      "700/700 [==============================] - 3s 4ms/step - loss: 0.3488 - accuracy: 0.8603\n",
      "Epoch 11/100\n",
      "700/700 [==============================] - 3s 4ms/step - loss: 0.3489 - accuracy: 0.8583\n",
      "Epoch 12/100\n",
      "700/700 [==============================] - 3s 4ms/step - loss: 0.3458 - accuracy: 0.8553\n",
      "Epoch 13/100\n",
      "700/700 [==============================] - 3s 4ms/step - loss: 0.3450 - accuracy: 0.8577\n",
      "Epoch 14/100\n",
      "700/700 [==============================] - 3s 4ms/step - loss: 0.3447 - accuracy: 0.8577\n",
      "Epoch 15/100\n",
      "700/700 [==============================] - 3s 4ms/step - loss: 0.3467 - accuracy: 0.8576\n",
      "Epoch 16/100\n",
      "700/700 [==============================] - 3s 4ms/step - loss: 0.3444 - accuracy: 0.8597\n",
      "Epoch 17/100\n",
      "700/700 [==============================] - 3s 4ms/step - loss: 0.3434 - accuracy: 0.8587\n",
      "Epoch 18/100\n",
      "700/700 [==============================] - 3s 4ms/step - loss: 0.3440 - accuracy: 0.8596\n",
      "Epoch 19/100\n",
      "700/700 [==============================] - 3s 4ms/step - loss: 0.3420 - accuracy: 0.8609\n",
      "Epoch 20/100\n",
      "700/700 [==============================] - 3s 4ms/step - loss: 0.3428 - accuracy: 0.8614\n",
      "Epoch 21/100\n",
      "700/700 [==============================] - 2s 4ms/step - loss: 0.3440 - accuracy: 0.8617\n",
      "Epoch 22/100\n",
      "700/700 [==============================] - 2s 3ms/step - loss: 0.3405 - accuracy: 0.8634\n",
      "Epoch 23/100\n",
      "700/700 [==============================] - 3s 4ms/step - loss: 0.3407 - accuracy: 0.8629\n",
      "Epoch 24/100\n",
      "700/700 [==============================] - 3s 4ms/step - loss: 0.3438 - accuracy: 0.8580\n",
      "Epoch 25/100\n",
      "700/700 [==============================] - 3s 4ms/step - loss: 0.3410 - accuracy: 0.8610\n",
      "Epoch 26/100\n",
      "700/700 [==============================] - 3s 4ms/step - loss: 0.3402 - accuracy: 0.8619\n",
      "Epoch 27/100\n",
      "700/700 [==============================] - 3s 4ms/step - loss: 0.3409 - accuracy: 0.8610\n",
      "Epoch 28/100\n",
      "700/700 [==============================] - 3s 5ms/step - loss: 0.3406 - accuracy: 0.8587\n",
      "Epoch 29/100\n",
      "700/700 [==============================] - 3s 4ms/step - loss: 0.3402 - accuracy: 0.8601\n",
      "Epoch 30/100\n",
      "700/700 [==============================] - 3s 4ms/step - loss: 0.3395 - accuracy: 0.8607\n",
      "Epoch 31/100\n",
      "700/700 [==============================] - 3s 4ms/step - loss: 0.3400 - accuracy: 0.8607\n",
      "Epoch 32/100\n",
      "700/700 [==============================] - 2s 4ms/step - loss: 0.3400 - accuracy: 0.8571\n",
      "Epoch 33/100\n",
      "700/700 [==============================] - 3s 4ms/step - loss: 0.3398 - accuracy: 0.8604\n",
      "Epoch 34/100\n",
      "700/700 [==============================] - 3s 4ms/step - loss: 0.3406 - accuracy: 0.8607\n",
      "Epoch 35/100\n",
      "700/700 [==============================] - 3s 4ms/step - loss: 0.3391 - accuracy: 0.8627\n",
      "Epoch 36/100\n",
      "700/700 [==============================] - 3s 4ms/step - loss: 0.3403 - accuracy: 0.8624\n",
      "Epoch 37/100\n",
      "700/700 [==============================] - 3s 4ms/step - loss: 0.3387 - accuracy: 0.8601\n",
      "Epoch 38/100\n",
      "700/700 [==============================] - 3s 4ms/step - loss: 0.3392 - accuracy: 0.8613\n",
      "Epoch 39/100\n",
      "700/700 [==============================] - 3s 4ms/step - loss: 0.3392 - accuracy: 0.8634\n",
      "Epoch 40/100\n",
      "700/700 [==============================] - 3s 4ms/step - loss: 0.3382 - accuracy: 0.8631\n",
      "Epoch 41/100\n",
      "700/700 [==============================] - 3s 4ms/step - loss: 0.3384 - accuracy: 0.8620\n",
      "Epoch 42/100\n",
      "700/700 [==============================] - 3s 4ms/step - loss: 0.3356 - accuracy: 0.8631\n",
      "Epoch 43/100\n",
      "700/700 [==============================] - 3s 4ms/step - loss: 0.3350 - accuracy: 0.8626\n",
      "Epoch 44/100\n",
      "700/700 [==============================] - 3s 4ms/step - loss: 0.3360 - accuracy: 0.8639\n",
      "Epoch 45/100\n",
      "700/700 [==============================] - 3s 4ms/step - loss: 0.3376 - accuracy: 0.8646\n",
      "Epoch 46/100\n",
      "700/700 [==============================] - 3s 5ms/step - loss: 0.3359 - accuracy: 0.8661\n",
      "Epoch 47/100\n",
      "700/700 [==============================] - 3s 4ms/step - loss: 0.3369 - accuracy: 0.8644\n",
      "Epoch 48/100\n",
      "700/700 [==============================] - 3s 4ms/step - loss: 0.3360 - accuracy: 0.8637\n",
      "Epoch 49/100\n",
      "700/700 [==============================] - 3s 4ms/step - loss: 0.3364 - accuracy: 0.8641\n",
      "Epoch 50/100\n",
      "700/700 [==============================] - 3s 4ms/step - loss: 0.3379 - accuracy: 0.8654\n",
      "Epoch 51/100\n",
      "700/700 [==============================] - 3s 4ms/step - loss: 0.3353 - accuracy: 0.8641\n",
      "Epoch 52/100\n",
      "700/700 [==============================] - 3s 4ms/step - loss: 0.3348 - accuracy: 0.8641\n",
      "Epoch 53/100\n",
      "700/700 [==============================] - 3s 4ms/step - loss: 0.3357 - accuracy: 0.8646\n",
      "Epoch 54/100\n",
      "700/700 [==============================] - 3s 4ms/step - loss: 0.3347 - accuracy: 0.8640\n",
      "Epoch 55/100\n",
      "700/700 [==============================] - 3s 4ms/step - loss: 0.3348 - accuracy: 0.8663\n",
      "Epoch 56/100\n",
      "700/700 [==============================] - 3s 4ms/step - loss: 0.3350 - accuracy: 0.8627\n",
      "Epoch 57/100\n",
      "700/700 [==============================] - 3s 4ms/step - loss: 0.3347 - accuracy: 0.8664\n",
      "Epoch 58/100\n",
      "700/700 [==============================] - 3s 4ms/step - loss: 0.3333 - accuracy: 0.8649\n",
      "Epoch 59/100\n",
      "700/700 [==============================] - 3s 4ms/step - loss: 0.3340 - accuracy: 0.8629\n",
      "Epoch 60/100\n",
      "700/700 [==============================] - 3s 4ms/step - loss: 0.3353 - accuracy: 0.8643\n",
      "Epoch 61/100\n",
      "700/700 [==============================] - 3s 4ms/step - loss: 0.3352 - accuracy: 0.8646\n",
      "Epoch 62/100\n",
      "700/700 [==============================] - 3s 4ms/step - loss: 0.3343 - accuracy: 0.8636\n",
      "Epoch 63/100\n",
      "700/700 [==============================] - 3s 4ms/step - loss: 0.3354 - accuracy: 0.8659\n",
      "Epoch 64/100\n",
      "700/700 [==============================] - 3s 4ms/step - loss: 0.3341 - accuracy: 0.8637\n",
      "Epoch 65/100\n",
      "700/700 [==============================] - 3s 4ms/step - loss: 0.3333 - accuracy: 0.8667\n",
      "Epoch 66/100\n",
      "700/700 [==============================] - 3s 4ms/step - loss: 0.3345 - accuracy: 0.8656\n",
      "Epoch 67/100\n",
      "700/700 [==============================] - 3s 4ms/step - loss: 0.3354 - accuracy: 0.8647\n",
      "Epoch 68/100\n",
      "700/700 [==============================] - 3s 4ms/step - loss: 0.3336 - accuracy: 0.8669\n",
      "Epoch 69/100\n",
      "700/700 [==============================] - 3s 4ms/step - loss: 0.3330 - accuracy: 0.8637\n",
      "Epoch 70/100\n",
      "700/700 [==============================] - 3s 4ms/step - loss: 0.3340 - accuracy: 0.8654\n",
      "Epoch 71/100\n",
      "700/700 [==============================] - 3s 4ms/step - loss: 0.3353 - accuracy: 0.8630\n",
      "Epoch 72/100\n",
      "700/700 [==============================] - 3s 4ms/step - loss: 0.3334 - accuracy: 0.8654\n",
      "Epoch 73/100\n",
      "700/700 [==============================] - 3s 4ms/step - loss: 0.3330 - accuracy: 0.8650\n",
      "Epoch 74/100\n",
      "700/700 [==============================] - 3s 4ms/step - loss: 0.3347 - accuracy: 0.8649\n",
      "Epoch 75/100\n",
      "700/700 [==============================] - 3s 4ms/step - loss: 0.3334 - accuracy: 0.8667\n",
      "Epoch 76/100\n",
      "700/700 [==============================] - 3s 4ms/step - loss: 0.3332 - accuracy: 0.8653\n",
      "Epoch 77/100\n",
      "700/700 [==============================] - 3s 4ms/step - loss: 0.3338 - accuracy: 0.8660\n",
      "Epoch 78/100\n",
      "700/700 [==============================] - 3s 4ms/step - loss: 0.3339 - accuracy: 0.8667\n",
      "Epoch 79/100\n",
      "700/700 [==============================] - 3s 5ms/step - loss: 0.3326 - accuracy: 0.8664\n",
      "Epoch 80/100\n",
      "700/700 [==============================] - 3s 4ms/step - loss: 0.3336 - accuracy: 0.8661\n",
      "Epoch 81/100\n"
     ]
    },
    {
     "name": "stdout",
     "output_type": "stream",
     "text": [
      "700/700 [==============================] - 2s 3ms/step - loss: 0.3318 - accuracy: 0.8649\n",
      "Epoch 82/100\n",
      "700/700 [==============================] - 2s 4ms/step - loss: 0.3331 - accuracy: 0.8646\n",
      "Epoch 83/100\n",
      "700/700 [==============================] - 3s 4ms/step - loss: 0.3338 - accuracy: 0.8641\n",
      "Epoch 84/100\n",
      "700/700 [==============================] - 2s 3ms/step - loss: 0.3346 - accuracy: 0.8670\n",
      "Epoch 85/100\n",
      "700/700 [==============================] - 3s 4ms/step - loss: 0.3331 - accuracy: 0.8667\n",
      "Epoch 86/100\n",
      "700/700 [==============================] - 3s 4ms/step - loss: 0.3343 - accuracy: 0.8650\n",
      "Epoch 87/100\n",
      "700/700 [==============================] - 3s 4ms/step - loss: 0.3321 - accuracy: 0.8659\n",
      "Epoch 88/100\n",
      "700/700 [==============================] - 3s 4ms/step - loss: 0.3332 - accuracy: 0.8680\n",
      "Epoch 89/100\n",
      "700/700 [==============================] - 2s 4ms/step - loss: 0.3330 - accuracy: 0.8641\n",
      "Epoch 90/100\n",
      "700/700 [==============================] - 3s 4ms/step - loss: 0.3346 - accuracy: 0.8650\n",
      "Epoch 91/100\n",
      "700/700 [==============================] - 3s 4ms/step - loss: 0.3330 - accuracy: 0.8646\n",
      "Epoch 92/100\n",
      "700/700 [==============================] - 2s 3ms/step - loss: 0.3325 - accuracy: 0.8647\n",
      "Epoch 93/100\n",
      "700/700 [==============================] - 3s 4ms/step - loss: 0.3327 - accuracy: 0.8636\n",
      "Epoch 94/100\n",
      "700/700 [==============================] - 3s 5ms/step - loss: 0.3336 - accuracy: 0.8653\n",
      "Epoch 95/100\n",
      "700/700 [==============================] - 3s 4ms/step - loss: 0.3307 - accuracy: 0.8657\n",
      "Epoch 96/100\n",
      "700/700 [==============================] - 3s 4ms/step - loss: 0.3319 - accuracy: 0.8660\n",
      "Epoch 97/100\n",
      "700/700 [==============================] - 3s 4ms/step - loss: 0.3325 - accuracy: 0.8654\n",
      "Epoch 98/100\n",
      "700/700 [==============================] - 3s 4ms/step - loss: 0.3324 - accuracy: 0.8686\n",
      "Epoch 99/100\n",
      "700/700 [==============================] - 3s 4ms/step - loss: 0.3312 - accuracy: 0.8661\n",
      "Epoch 100/100\n",
      "700/700 [==============================] - 3s 4ms/step - loss: 0.3329 - accuracy: 0.8644\n"
     ]
    },
    {
     "data": {
      "text/plain": [
       "<keras.src.callbacks.History at 0x1e63ad92ac0>"
      ]
     },
     "execution_count": 40,
     "metadata": {},
     "output_type": "execute_result"
    }
   ],
   "source": [
    "model.fit(x_train,y_train,epochs=100,batch_size=10,verbose=1)"
   ]
  },
  {
   "cell_type": "code",
   "execution_count": 41,
   "id": "4145d97d",
   "metadata": {},
   "outputs": [
    {
     "name": "stdout",
     "output_type": "stream",
     "text": [
      "94/94 [==============================] - 1s 3ms/step\n"
     ]
    }
   ],
   "source": [
    "y_pred = model.predict(x_test)"
   ]
  },
  {
   "cell_type": "code",
   "execution_count": 42,
   "id": "8019c371",
   "metadata": {},
   "outputs": [],
   "source": [
    "y_pred[y_pred>0.5]=1\n",
    "y_pred[y_pred<0.5]=0"
   ]
  },
  {
   "cell_type": "code",
   "execution_count": 43,
   "id": "447ab1c1",
   "metadata": {},
   "outputs": [
    {
     "data": {
      "text/plain": [
       "array([[2317,  110],\n",
       "       [ 285,  288]], dtype=int64)"
      ]
     },
     "execution_count": 43,
     "metadata": {},
     "output_type": "execute_result"
    }
   ],
   "source": [
    "cm = confusion_matrix(y_test,y_pred)\n",
    "cm"
   ]
  },
  {
   "cell_type": "code",
   "execution_count": 44,
   "id": "383b66b8",
   "metadata": {},
   "outputs": [
    {
     "data": {
      "text/plain": [
       "0.8683333333333333"
      ]
     },
     "execution_count": 44,
     "metadata": {},
     "output_type": "execute_result"
    }
   ],
   "source": [
    "accuracy = accuracy_score(y_test,y_pred)\n",
    "accuracy"
   ]
  },
  {
   "cell_type": "code",
   "execution_count": null,
   "id": "835abe59",
   "metadata": {},
   "outputs": [],
   "source": []
  }
 ],
 "metadata": {
  "kernelspec": {
   "display_name": "myenv",
   "language": "python",
   "name": "myenv"
  },
  "language_info": {
   "codemirror_mode": {
    "name": "ipython",
    "version": 3
   },
   "file_extension": ".py",
   "mimetype": "text/x-python",
   "name": "python",
   "nbconvert_exporter": "python",
   "pygments_lexer": "ipython3",
   "version": "3.8.18"
  }
 },
 "nbformat": 4,
 "nbformat_minor": 5
}
